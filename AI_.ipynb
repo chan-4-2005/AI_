{
  "metadata": {
    "language_info": {
      "codemirror_mode": {
        "name": "python",
        "version": 3
      },
      "file_extension": ".py",
      "mimetype": "text/x-python",
      "name": "python",
      "nbconvert_exporter": "python",
      "pygments_lexer": "ipython3",
      "version": "3.8"
    },
    "kernelspec": {
      "name": "python",
      "display_name": "Python (Pyodide)",
      "language": "python"
    }
  },
  "nbformat_minor": 4,
  "nbformat": 4,
  "cells": [
    {
      "cell_type": "code",
      "source": "# Representing the in 10x2 Dimension\nimport numpy as np\nDay_number=np.arange(1,11)\nsteps_walked=[6011,3025,9590,8092,2100,300,7000,9080,10100,11089]\narr=np.array([Day_number,steps_walked])\narr=arr.T\nprint(arr)\nnew=arr[:,1]+2000\narr[:,1]=new\nprint()\nprint(arr)\nla=arr[:,1]>9000\nla\nnew_=arr[la]\nnew_",
      "metadata": {
        "trusted": true
      },
      "execution_count": 95,
      "outputs": [
        {
          "name": "stdout",
          "text": "[[    1  6011]\n [    2  3025]\n [    3  9590]\n [    4  8092]\n [    5  2100]\n [    6   300]\n [    7  7000]\n [    8  9080]\n [    9 10100]\n [   10 11089]]\n\n[[    1  8011]\n [    2  5025]\n [    3 11590]\n [    4 10092]\n [    5  4100]\n [    6  2300]\n [    7  9000]\n [    8 11080]\n [    9 12100]\n [   10 13089]]\n",
          "output_type": "stream"
        },
        {
          "execution_count": 95,
          "output_type": "execute_result",
          "data": {
            "text/plain": "array([[    3, 11590],\n       [    4, 10092],\n       [    8, 11080],\n       [    9, 12100],\n       [   10, 13089]])"
          },
          "metadata": {}
        }
      ]
    },
    {
      "cell_type": "code",
      "source": "import pandas as pd\nlee={'Days':[1,2,3,4,5,6,7,8,9,10],\n    'Steps_walked':[6011,3025,9590,8092,2100,300,7000,9080,10100,11089]}\nlee_=pd.DataFrame(lee)\nprint(lee_,'\\n')\nprint(\"...The data after adding 2000...\")\nste=lee_.Steps_walked.add(2000)\nprint(ste,'\\n')\ngre=lee_.Steps_walked>9000\nprint('...The steps greater than 9000...')\nprint(ste[gre])",
      "metadata": {
        "trusted": true
      },
      "execution_count": 109,
      "outputs": [
        {
          "name": "stdout",
          "text": "   Days  Steps_walked\n0     1          6011\n1     2          3025\n2     3          9590\n3     4          8092\n4     5          2100\n5     6           300\n6     7          7000\n7     8          9080\n8     9         10100\n9    10         11089 \n\n...The data after adding 2000...\n0     8011\n1     5025\n2    11590\n3    10092\n4     4100\n5     2300\n6     9000\n7    11080\n8    12100\n9    13089\nName: Steps_walked, dtype: int64 \n\n...The steps greater than 9000...\n2    11590\n7    11080\n8    12100\n9    13089\nName: Steps_walked, dtype: int64\n",
          "output_type": "stream"
        }
      ]
    },
    {
      "cell_type": "code",
      "source": "import pandas as pd\nimport random\nfor i in range(10):\n    print(random.randint(100,10000))",
      "metadata": {
        "trusted": true
      },
      "execution_count": 110,
      "outputs": [
        {
          "name": "stdout",
          "text": "1992\n7794\n2743\n1065\n4595\n1656\n2549\n9685\n3810\n9065\n",
          "output_type": "stream"
        }
      ]
    },
    {
      "cell_type": "code",
      "source": "import random\nimport pandas as pd\nlee={'Days':[1,2,3,4,5,6,7,8,9,10],\n    'Steps_walked':[6011,3025,9590,8092,2100,300,7000,9080,10100,11089]}\nlee_=pd.DataFrame(lee)\nprint(lee_,'\\n')\nprint(\"...The data after adding 2000...\")\nste=lee_.Steps_walked.add(2000)\nprint(ste,'\\n')\ngre=lee_.Steps_walked>9000\nprint('...The steps greater than 9000...')\nprint(ste[gre])",
      "metadata": {
        "trusted": true
      },
      "execution_count": 151,
      "outputs": [
        {
          "name": "stdout",
          "text": "   Days  Steps_walked\n0     1          6011\n1     2          3025\n2     3          9590\n3     4          8092\n4     5          2100\n5     6           300\n6     7          7000\n7     8          9080\n8     9         10100\n9    10         11089 \n\n...The data after adding 2000...\n0     8011\n1     5025\n2    11590\n3    10092\n4     4100\n5     2300\n6     9000\n7    11080\n8    12100\n9    13089\nName: Steps_walked, dtype: int64 \n\n...The steps greater than 9000...\n2    11590\n7    11080\n8    12100\n9    13089\nName: Steps_walked, dtype: int64\n",
          "output_type": "stream"
        }
      ]
    },
    {
      "cell_type": "markdown",
      "source": "## calculating aggregate function",
      "metadata": {}
    },
    {
      "cell_type": "code",
      "source": "import pandas as pd\nmarks={'Chemistry':[67,90,66,32,72,45,60,98],\n      'Physics':[45,92,72,92,72,34,72,45]}\nmarks_=pd.DataFrame(marks,index=['subodh','Ram','Abdul','JOhn','Nandini','Zoya','Shivam','James'])\nprint(marks_,'\\n')\nprint(marks_.sum(),'\\n')\nprint('Chemistry Average:',marks_.Chemistry.mean(),'\\n')\nprint(marks_.mean())",
      "metadata": {
        "trusted": true
      },
      "execution_count": 169,
      "outputs": [
        {
          "name": "stdout",
          "text": "         Chemistry  Physics\nsubodh          67       45\nRam             90       92\nAbdul           66       72\nJOhn            32       92\nNandini         72       72\nZoya            45       34\nShivam          60       72\nJames           98       45 \n\nChemistry    530\nPhysics      524\ndtype: int64 \n\nChemistry Average: 66.25 \n\nChemistry    66.25\nPhysics      65.50\ndtype: float64\n",
          "output_type": "stream"
        }
      ]
    },
    {
      "cell_type": "markdown",
      "source": "### Melt Function",
      "metadata": {}
    },
    {
      "cell_type": "code",
      "source": "import pandas as pd\ndf=pd.DataFrame(data={\n  'Day':['MON','TUE','WED','THU'],\n'Google':[1129,1132,1186,1299],\n    'Apple':[191,196,182,190],\n    'Samsung':[192,195,180,169]   \n})\nprint(df,'\\n')\n# By using melt function it can be reshaped \nreshape_df=df.melt(id_vars=['Day'])# id_vars is the column where we donot want to change anything..\nprint(\"..After reshaping..\")\nreshape_df",
      "metadata": {
        "trusted": true
      },
      "execution_count": 181,
      "outputs": [
        {
          "name": "stdout",
          "text": "   Day  Google  Apple  Samsung\n0  MON    1129    191      192\n1  TUE    1132    196      195\n2  WED    1186    182      180\n3  THU    1299    190      169 \n\n..After reshaping..\n",
          "output_type": "stream"
        },
        {
          "execution_count": 181,
          "output_type": "execute_result",
          "data": {
            "text/plain": "    Day variable  value\n0   MON   Google   1129\n1   TUE   Google   1132\n2   WED   Google   1186\n3   THU   Google   1299\n4   MON    Apple    191\n5   TUE    Apple    196\n6   WED    Apple    182\n7   THU    Apple    190\n8   MON  Samsung    192\n9   TUE  Samsung    195\n10  WED  Samsung    180\n11  THU  Samsung    169",
            "text/html": "<div>\n<style scoped>\n    .dataframe tbody tr th:only-of-type {\n        vertical-align: middle;\n    }\n\n    .dataframe tbody tr th {\n        vertical-align: top;\n    }\n\n    .dataframe thead th {\n        text-align: right;\n    }\n</style>\n<table border=\"1\" class=\"dataframe\">\n  <thead>\n    <tr style=\"text-align: right;\">\n      <th></th>\n      <th>Day</th>\n      <th>variable</th>\n      <th>value</th>\n    </tr>\n  </thead>\n  <tbody>\n    <tr>\n      <th>0</th>\n      <td>MON</td>\n      <td>Google</td>\n      <td>1129</td>\n    </tr>\n    <tr>\n      <th>1</th>\n      <td>TUE</td>\n      <td>Google</td>\n      <td>1132</td>\n    </tr>\n    <tr>\n      <th>2</th>\n      <td>WED</td>\n      <td>Google</td>\n      <td>1186</td>\n    </tr>\n    <tr>\n      <th>3</th>\n      <td>THU</td>\n      <td>Google</td>\n      <td>1299</td>\n    </tr>\n    <tr>\n      <th>4</th>\n      <td>MON</td>\n      <td>Apple</td>\n      <td>191</td>\n    </tr>\n    <tr>\n      <th>5</th>\n      <td>TUE</td>\n      <td>Apple</td>\n      <td>196</td>\n    </tr>\n    <tr>\n      <th>6</th>\n      <td>WED</td>\n      <td>Apple</td>\n      <td>182</td>\n    </tr>\n    <tr>\n      <th>7</th>\n      <td>THU</td>\n      <td>Apple</td>\n      <td>190</td>\n    </tr>\n    <tr>\n      <th>8</th>\n      <td>MON</td>\n      <td>Samsung</td>\n      <td>192</td>\n    </tr>\n    <tr>\n      <th>9</th>\n      <td>TUE</td>\n      <td>Samsung</td>\n      <td>195</td>\n    </tr>\n    <tr>\n      <th>10</th>\n      <td>WED</td>\n      <td>Samsung</td>\n      <td>180</td>\n    </tr>\n    <tr>\n      <th>11</th>\n      <td>THU</td>\n      <td>Samsung</td>\n      <td>169</td>\n    </tr>\n  </tbody>\n</table>\n</div>"
          },
          "metadata": {}
        }
      ]
    },
    {
      "cell_type": "markdown",
      "source": "### Filter function",
      "metadata": {}
    },
    {
      "cell_type": "code",
      "source": "ls=[i for i in range(50)]\nevenlist=list(filter(lambda x:True if x%2==0 else False,ls))\noddlist=list(filter(lambda x:True if x%2!=0 else False,ls))\nprint('Evenlist')\nprint(evenlist,'\\n')\nprint('odd list')\nprint(oddlist)",
      "metadata": {
        "trusted": true
      },
      "execution_count": 194,
      "outputs": [
        {
          "name": "stdout",
          "text": "Evenlist\n[0, 2, 4, 6, 8, 10, 12, 14, 16, 18, 20, 22, 24, 26, 28, 30, 32, 34, 36, 38, 40, 42, 44, 46, 48] \n\nodd list\n[1, 3, 5, 7, 9, 11, 13, 15, 17, 19, 21, 23, 25, 27, 29, 31, 33, 35, 37, 39, 41, 43, 45, 47, 49]\n",
          "output_type": "stream"
        }
      ]
    },
    {
      "cell_type": "code",
      "source": "def oddeven(x):\n    if x%2==0:\n        return True\n    else:\n        return False\nls_=[j for j in range(50)]\nevels=list(filter(oddeven,ls_))\nprint(\"Even Numbers..\")\nprint(evels)",
      "metadata": {
        "trusted": true
      },
      "execution_count": 200,
      "outputs": [
        {
          "name": "stdout",
          "text": "Even Numbers..\n[0, 2, 4, 6, 8, 10, 12, 14, 16, 18, 20, 22, 24, 26, 28, 30, 32, 34, 36, 38, 40, 42, 44, 46, 48]\n",
          "output_type": "stream"
        }
      ]
    },
    {
      "cell_type": "markdown",
      "source": "### Auto-MPG",
      "metadata": {}
    },
    {
      "cell_type": "code",
      "source": "\nimport pandas as pd\ndf=pd.read_csv('auto-mpg.csv')\ndf.head()\n# Engineer want to know MPG>29,Horsepower<93.5,weight<2500\n\nen=df.loc[(df['mpg']>29)& (df['weight']<2500)]\nprint(en)\n# Engineer want to know displacement>262,Horsepower>126,weight in range[2800,3600]\nen_=df.loc[(df['displacement']>262)& (df['weight']>=2800)& (df['weight']<=3600)]\nprint(en_)",
      "metadata": {
        "trusted": true
      },
      "execution_count": 20,
      "outputs": [
        {
          "name": "stdout",
          "text": "      mpg  cylinders  displacement horsepower  weight  acceleration  \\\n51   30.0          4          79.0         70    2074          19.5   \n52   30.0          4          88.0         76    2065          14.5   \n53   31.0          4          71.0         65    1773          19.0   \n54   35.0          4          72.0         69    1613          18.0   \n129  31.0          4          79.0         67    1950          19.0   \n..    ...        ...           ...        ...     ...           ...   \n384  32.0          4          91.0         67    1965          15.7   \n385  38.0          4          91.0         67    1995          16.2   \n391  36.0          4         135.0         84    2370          13.0   \n394  44.0          4          97.0         52    2130          24.6   \n395  32.0          4         135.0         84    2295          11.6   \n\n     model year  origin             car name  \n51           71       2          peugeot 304  \n52           71       2            fiat 124b  \n53           71       3  toyota corolla 1200  \n54           71       3          datsun 1200  \n129          74       3          datsun b210  \n..          ...     ...                  ...  \n384          82       3   honda civic (auto)  \n385          82       3        datsun 310 gx  \n391          82       1    dodge charger 2.2  \n394          82       2            vw pickup  \n395          82       1        dodge rampage  \n\n[83 rows x 9 columns]\n      mpg  cylinders  displacement horsepower  weight  acceleration  \\\n0    18.0          8         307.0        130    3504          12.0   \n2    18.0          8         318.0        150    3436          11.0   \n3    16.0          8         304.0        150    3433          12.0   \n4    17.0          8         302.0        140    3449          10.5   \n10   15.0          8         383.0        170    3563          10.0   \n13   14.0          8         455.0        225    3086          10.0   \n121  15.0          8         318.0        150    3399          11.0   \n166  13.0          8         302.0        129    3169          12.0   \n251  20.2          8         302.0        139    3570          12.8   \n262  19.2          8         305.0        145    3425          13.2   \n264  18.1          8         302.0        139    3205          11.2   \n\n     model year  origin                      car name  \n0            70       1     chevrolet chevelle malibu  \n2            70       1            plymouth satellite  \n3            70       1                 amc rebel sst  \n4            70       1                   ford torino  \n10           70       1           dodge challenger se  \n13           70       1       buick estate wagon (sw)  \n121          73       1             dodge dart custom  \n166          75       1               ford mustang ii  \n251          78       1          mercury monarch ghia  \n262          78       1  chevrolet monte carlo landau  \n264          78       1                   ford futura  \n",
          "output_type": "stream"
        }
      ]
    },
    {
      "cell_type": "markdown",
      "source": "### Rainfall dataset",
      "metadata": {}
    },
    {
      "cell_type": "code",
      "source": "df=pd.read_csv('rainfall.csv')\nprint(df)\n# The disrict that gets highest annual rainfall\nsortdf=df.sort_values(by='ANNUAL',ascending=False)\nhighest=sortdf.iloc[0,1]\nprint(\"District with highest rainfall:\",highest)\n# top 5 district with highest annual rainfall\nprint(sortdf.head(5),'\\n')\n# dropping the months\ndrdf=df.drop(['Jan-Feb','Mar-May','Jun-Sep','Oct-Dec'],axis=1)\nprint('..Dropped data..')\nprint(drdf)",
      "metadata": {
        "trusted": true
      },
      "execution_count": 34,
      "outputs": [
        {
          "name": "stdout",
          "text": "                   STATE_UT_NAME        DISTRICT    JAN   FEB    MAR    APR  \\\n0    ANDAMAN And NICOBAR ISLANDS         NICOBAR  107.3  57.9   65.2  117.0   \n1    ANDAMAN And NICOBAR ISLANDS   SOUTH ANDAMAN   43.7  26.0   18.6   90.5   \n2    ANDAMAN And NICOBAR ISLANDS   N & M ANDAMAN   32.7  15.9    8.6   53.4   \n3              ARUNACHAL PRADESH           LOHIT   42.2  80.8  176.4  358.5   \n4              ARUNACHAL PRADESH      EAST SIANG   33.3  79.5  105.9  216.5   \n..                           ...             ...    ...   ...    ...    ...   \n636                       KERALA          IDUKKI   13.4  22.1   43.6  150.4   \n637                       KERALA        KASARGOD    2.3   1.0    8.4   46.9   \n638                       KERALA  PATHANAMTHITTA   19.8  45.2   73.9  184.9   \n639                       KERALA         WAYANAD    4.8   8.3   17.5   83.3   \n640                  LAKSHADWEEP     LAKSHADWEEP   20.8  14.7   11.8   48.9   \n\n       MAY    JUN     JUL    AUG    SEP    OCT    NOV    DEC  ANNUAL  Jan-Feb  \\\n0    358.5  295.5   285.0  271.9  354.8  326.0  315.2  250.9  2805.2    165.2   \n1    374.4  457.2   421.3  423.1  455.6  301.2  275.8  128.3  3015.7     69.7   \n2    343.6  503.3   465.4  460.9  454.8  276.1  198.6  100.0  2913.3     48.6   \n3    306.4  447.0   660.1  427.8  313.6  167.1   34.1   29.8  3043.8    123.0   \n4    323.0  738.3   990.9  711.2  568.0  206.9   29.5   31.7  4034.7    112.8   \n..     ...    ...     ...    ...    ...    ...    ...    ...     ...      ...   \n636  232.6  651.6   788.9  527.3  308.4  343.2  172.9   48.1  3302.5     35.5   \n637  217.6  999.6  1108.5  636.3  263.1  234.9   84.6   18.4  3621.6      3.3   \n638  294.7  556.9   539.9  352.7  266.2  359.4  213.5   51.3  2958.4     65.0   \n639  174.6  698.1  1110.4  592.9  230.7  213.1   93.6   25.8  3253.1     13.1   \n640  171.7  330.2   287.7  217.5  163.1  157.1  117.7   58.8  1600.0     35.5   \n\n     Mar-May  Jun-Sep  Oct-Dec  \n0      540.7   1207.2    892.1  \n1      483.5   1757.2    705.3  \n2      405.6   1884.4    574.7  \n3      841.3   1848.5    231.0  \n4      645.4   3008.4    268.1  \n..       ...      ...      ...  \n636    426.6   2276.2    564.2  \n637    272.9   3007.5    337.9  \n638    553.5   1715.7    624.2  \n639    275.4   2632.1    332.5  \n640    232.4    998.5    333.6  \n\n[641 rows x 19 columns]\nDistrict with highest rainfall: TAMENGLONG\n         STATE_UT_NAME       DISTRICT   JAN    FEB    MAR    APR    MAY  \\\n55             MANIPUR     TAMENGLONG  48.5  229.6  224.5  431.5  539.9   \n47           MEGHALAYA  JAINTIA HILLS  33.8   44.1  115.1  282.3  598.8   \n46           MEGHALAYA  EAST KHASI HI  15.4   24.1  129.7  312.5  733.7   \n12   ARUNACHAL PRADESH    UPPER SIANG  74.3  176.7  362.6  397.5  408.7   \n598          KARNATAKA          UDUPI   1.4    0.4    4.1   29.4  193.8   \n\n        JUN     JUL     AUG    SEP    OCT    NOV   DEC  ANNUAL  Jan-Feb  \\\n55   1158.7  1820.9  1522.1  726.3  376.1  144.0   7.2  7229.3    278.1   \n47   1316.1  1591.3   933.8  826.3  517.7  110.9   9.7  6379.9     77.9   \n46   1476.2  1518.4  1019.4  607.8  277.9   40.3  10.7  6166.1     39.5   \n12    801.9   653.0   417.9  686.0  264.9   86.9  71.7  4402.1    251.0   \n598  1081.0  1371.6   902.2  404.9  223.8   74.6  18.8  4306.0      1.8   \n\n     Mar-May  Jun-Sep  Oct-Dec  \n55    1195.9   5228.0    527.3  \n47     996.2   4667.5    638.3  \n46    1175.9   4621.8    328.9  \n12    1168.8   2558.8    423.5  \n598    227.3   3759.7    317.2   \n\n..Dropped data..\n                   STATE_UT_NAME        DISTRICT    JAN   FEB    MAR    APR  \\\n0    ANDAMAN And NICOBAR ISLANDS         NICOBAR  107.3  57.9   65.2  117.0   \n1    ANDAMAN And NICOBAR ISLANDS   SOUTH ANDAMAN   43.7  26.0   18.6   90.5   \n2    ANDAMAN And NICOBAR ISLANDS   N & M ANDAMAN   32.7  15.9    8.6   53.4   \n3              ARUNACHAL PRADESH           LOHIT   42.2  80.8  176.4  358.5   \n4              ARUNACHAL PRADESH      EAST SIANG   33.3  79.5  105.9  216.5   \n..                           ...             ...    ...   ...    ...    ...   \n636                       KERALA          IDUKKI   13.4  22.1   43.6  150.4   \n637                       KERALA        KASARGOD    2.3   1.0    8.4   46.9   \n638                       KERALA  PATHANAMTHITTA   19.8  45.2   73.9  184.9   \n639                       KERALA         WAYANAD    4.8   8.3   17.5   83.3   \n640                  LAKSHADWEEP     LAKSHADWEEP   20.8  14.7   11.8   48.9   \n\n       MAY    JUN     JUL    AUG    SEP    OCT    NOV    DEC  ANNUAL  \n0    358.5  295.5   285.0  271.9  354.8  326.0  315.2  250.9  2805.2  \n1    374.4  457.2   421.3  423.1  455.6  301.2  275.8  128.3  3015.7  \n2    343.6  503.3   465.4  460.9  454.8  276.1  198.6  100.0  2913.3  \n3    306.4  447.0   660.1  427.8  313.6  167.1   34.1   29.8  3043.8  \n4    323.0  738.3   990.9  711.2  568.0  206.9   29.5   31.7  4034.7  \n..     ...    ...     ...    ...    ...    ...    ...    ...     ...  \n636  232.6  651.6   788.9  527.3  308.4  343.2  172.9   48.1  3302.5  \n637  217.6  999.6  1108.5  636.3  263.1  234.9   84.6   18.4  3621.6  \n638  294.7  556.9   539.9  352.7  266.2  359.4  213.5   51.3  2958.4  \n639  174.6  698.1  1110.4  592.9  230.7  213.1   93.6   25.8  3253.1  \n640  171.7  330.2   287.7  217.5  163.1  157.1  117.7   58.8  1600.0  \n\n[641 rows x 15 columns]\n",
          "output_type": "stream"
        }
      ]
    },
    {
      "cell_type": "markdown",
      "source": "### houseprice prediction",
      "metadata": {}
    },
    {
      "cell_type": "code",
      "source": "import pandas as pd\ndf=pd.read_csv('homeprices.csv')\nprint(df)\ninp=df.drop('price','columns')\nout=df.drop('area','columns')\nprint()\nprint('Input data')\nprint(inp,'\\n')\nprint('Output data')\nprint(out)\nimport sklearn\nfrom sklearn import linear_model\nmodel=linear_model.LinearRegression()\nmodel.fit(inp,out)\nres=model.predict([[5000]])\nprint('..Predicted value..')\nprint(res)\nacc=model.score(inp,out)*100\nprint(\"Accuracy:\",acc)\n",
      "metadata": {
        "tags": [],
        "trusted": true
      },
      "execution_count": 6,
      "outputs": [
        {
          "name": "stdout",
          "text": "   area   price\n0  2600  550000\n1  3000  565000\n2  3200  610000\n3  3600  680000\n4  4000  725000\n",
          "output_type": "stream"
        },
        {
          "name": "stderr",
          "text": "<ipython-input-6-273eb9c7c304>:4: FutureWarning: In a future version of pandas all arguments of DataFrame.drop except for the argument 'labels' will be keyword-only.\n  inp=df.drop('price','columns')\n<ipython-input-6-273eb9c7c304>:5: FutureWarning: In a future version of pandas all arguments of DataFrame.drop except for the argument 'labels' will be keyword-only.\n  out=df.drop('area','columns')\n",
          "output_type": "stream"
        },
        {
          "name": "stdout",
          "text": "\nInput data\n   area\n0  2600\n1  3000\n2  3200\n3  3600\n4  4000 \n\nOutput data\n    price\n0  550000\n1  565000\n2  610000\n3  680000\n4  725000\n",
          "output_type": "stream"
        },
        {
          "name": "stderr",
          "text": "/lib/python3.11/site-packages/sklearn/base.py:439: UserWarning: X does not have valid feature names, but LinearRegression was fitted with feature names\n  warnings.warn(\n",
          "output_type": "stream"
        },
        {
          "name": "stdout",
          "text": "..Predicted value..\n[[859554.79452055]]\nAccuracy: 95.84301138199486\n",
          "output_type": "stream"
        }
      ]
    },
    {
      "cell_type": "markdown",
      "source": "### Multilinear regression",
      "metadata": {}
    },
    {
      "cell_type": "code",
      "source": "df=pd.read_csv('homeprices_Mul.csv')\nprint(df,'\\n')\nmedval=df.bedrooms.median()\nprint('Median:',medval)\ndf.bedrooms=df.bedrooms.fillna(medval)\nprint(df)\n# separating input and output\ninp=df.drop('price','columns')\nout=df.drop(['area','bedrooms','age'],'columns')\nprint()\nprint('Input data')\nprint(inp,'\\n')\nprint('Output data')\nprint(out)\nfrom sklearn import linear_model\nmodel=linear_model.LinearRegression()\nmodel.fit(inp,out)\nres=model.predict([[3000,2,18]])\nprint(\"Predicted result:\",res)\nacc=model.score(inp,out)*100\nprint(\"Predicted accuray:\",acc)",
      "metadata": {
        "trusted": true
      },
      "execution_count": 19,
      "outputs": [
        {
          "name": "stdout",
          "text": "   area  bedrooms  age   price\n0  2600       3.0   20  550000\n1  3000       4.0   15  565000\n2  3200       NaN   18  610000\n3  3600       3.0   30  595000\n4  4000       5.0    8  760000\n5  4100       6.0    8  810000 \n\nMedian: 4.0\n   area  bedrooms  age   price\n0  2600       3.0   20  550000\n1  3000       4.0   15  565000\n2  3200       4.0   18  610000\n3  3600       3.0   30  595000\n4  4000       5.0    8  760000\n5  4100       6.0    8  810000\n",
          "output_type": "stream"
        },
        {
          "name": "stderr",
          "text": "<ipython-input-19-5505ca1dc2de>:8: FutureWarning: In a future version of pandas all arguments of DataFrame.drop except for the argument 'labels' will be keyword-only.\n  inp=df.drop('price','columns')\n<ipython-input-19-5505ca1dc2de>:9: FutureWarning: In a future version of pandas all arguments of DataFrame.drop except for the argument 'labels' will be keyword-only.\n  out=df.drop(['area','bedrooms','age'],'columns')\n",
          "output_type": "stream"
        },
        {
          "name": "stdout",
          "text": "\nInput data\n   area  bedrooms  age\n0  2600       3.0   20\n1  3000       4.0   15\n2  3200       4.0   18\n3  3600       3.0   30\n4  4000       5.0    8\n5  4100       6.0    8 \n\nOutput data\n    price\n0  550000\n1  565000\n2  610000\n3  595000\n4  760000\n5  810000\n",
          "output_type": "stream"
        },
        {
          "name": "stderr",
          "text": "/lib/python3.11/site-packages/sklearn/base.py:439: UserWarning: X does not have valid feature names, but LinearRegression was fitted with feature names\n  warnings.warn(\n",
          "output_type": "stream"
        },
        {
          "name": "stdout",
          "text": "Predicted result: [[546117.16549229]]\nPredicted accuray: 95.50196399325819\n",
          "output_type": "stream"
        }
      ]
    },
    {
      "cell_type": "code",
      "source": "",
      "metadata": {},
      "execution_count": null,
      "outputs": []
    }
  ]
}